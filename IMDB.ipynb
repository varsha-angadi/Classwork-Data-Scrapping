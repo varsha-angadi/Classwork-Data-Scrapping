{
 "cells": [
  {
   "cell_type": "markdown",
   "id": "feba29c2-462a-4b3a-bb57-362252a417ae",
   "metadata": {},
   "source": [
    "# IMDB "
   ]
  },
  {
   "cell_type": "code",
   "execution_count": 1,
   "id": "5613642f-97a8-4630-bc0b-a0cb054b11d1",
   "metadata": {},
   "outputs": [
    {
     "name": "stdout",
     "output_type": "stream",
     "text": [
      "Requirement already satisfied: beautifulsoup4 in c:\\users\\varsh\\anaconda3\\lib\\site-packages (4.12.2)\n",
      "Requirement already satisfied: requests in c:\\users\\varsh\\anaconda3\\lib\\site-packages (2.31.0)\n",
      "Requirement already satisfied: pandas in c:\\users\\varsh\\anaconda3\\lib\\site-packages (2.1.4)\n",
      "Requirement already satisfied: soupsieve>1.2 in c:\\users\\varsh\\anaconda3\\lib\\site-packages (from beautifulsoup4) (2.5)\n",
      "Requirement already satisfied: charset-normalizer<4,>=2 in c:\\users\\varsh\\anaconda3\\lib\\site-packages (from requests) (2.0.4)\n",
      "Requirement already satisfied: idna<4,>=2.5 in c:\\users\\varsh\\anaconda3\\lib\\site-packages (from requests) (3.4)\n",
      "Requirement already satisfied: urllib3<3,>=1.21.1 in c:\\users\\varsh\\anaconda3\\lib\\site-packages (from requests) (2.0.7)\n",
      "Requirement already satisfied: certifi>=2017.4.17 in c:\\users\\varsh\\anaconda3\\lib\\site-packages (from requests) (2024.2.2)\n",
      "Requirement already satisfied: numpy<2,>=1.23.2 in c:\\users\\varsh\\anaconda3\\lib\\site-packages (from pandas) (1.26.4)\n",
      "Requirement already satisfied: python-dateutil>=2.8.2 in c:\\users\\varsh\\anaconda3\\lib\\site-packages (from pandas) (2.8.2)\n",
      "Requirement already satisfied: pytz>=2020.1 in c:\\users\\varsh\\anaconda3\\lib\\site-packages (from pandas) (2023.3.post1)\n",
      "Requirement already satisfied: tzdata>=2022.1 in c:\\users\\varsh\\anaconda3\\lib\\site-packages (from pandas) (2023.3)\n",
      "Requirement already satisfied: six>=1.5 in c:\\users\\varsh\\anaconda3\\lib\\site-packages (from python-dateutil>=2.8.2->pandas) (1.16.0)\n"
     ]
    }
   ],
   "source": [
    "# Install necessary packages\n",
    "\n",
    "!pip install beautifulsoup4 requests pandas"
   ]
  },
  {
   "cell_type": "code",
   "execution_count": 2,
   "id": "2290eeac-8207-4b52-853a-ca803bd26e9e",
   "metadata": {},
   "outputs": [],
   "source": [
    "# Import required libraries\n",
    "\n",
    "import requests\n",
    "\n",
    "from bs4 import BeautifulSoup\n",
    "\n",
    "import pandas as pd"
   ]
  },
  {
   "cell_type": "code",
   "execution_count": 3,
   "id": "fc3e9933-acc5-4e8b-bd03-366787b4edd4",
   "metadata": {},
   "outputs": [],
   "source": [
    "# Set up headers to mimic a browser visit\n",
    "\n",
    "headers = {\n",
    "    'User-Agent': 'Mozilla/5.0 (Windows NT 6.1) AppleWebKit/537.36 (KHTML, like Gecko) Chrome/41.0.2228.0 Safari/537.36'\n",
    "}"
   ]
  },
  {
   "cell_type": "code",
   "execution_count": 4,
   "id": "170c9a97-9f24-4133-b2d9-3c6574c84411",
   "metadata": {},
   "outputs": [],
   "source": [
    "# URL of the IMDb Top 250 Movies page\n",
    "\n",
    "url = \"https://www.imdb.com/chart/top/\""
   ]
  },
  {
   "cell_type": "code",
   "execution_count": 5,
   "id": "68fc8740-1150-45cd-a96d-3a3d5bfefe85",
   "metadata": {},
   "outputs": [],
   "source": [
    "# Send a GET request to the URL\n",
    "\n",
    "response=requests.get(url,headers=headers)"
   ]
  },
  {
   "cell_type": "code",
   "execution_count": 6,
   "id": "15d7e6e3-f182-4d7e-98bd-78b34493c3d3",
   "metadata": {},
   "outputs": [],
   "source": [
    "# Parse the HTML content\n",
    "\n",
    "soup = BeautifulSoup(response.content, \"html.parser\")"
   ]
  },
  {
   "cell_type": "code",
   "execution_count": 7,
   "id": "cc1d200d-52b4-4813-b15c-1c2e22efd921",
   "metadata": {},
   "outputs": [],
   "source": [
    "# Extract movie titles\n",
    "\n",
    "Movie_title=soup.select('h3',class_='ipc-title__text')"
   ]
  },
  {
   "cell_type": "code",
   "execution_count": 8,
   "id": "910ea194-aeff-4763-8d49-10661b277f1a",
   "metadata": {},
   "outputs": [],
   "source": [
    "# Append all the movies title to a list\n",
    "\n",
    "Movies=[]\n",
    "for i in Movie_title:\n",
    "    Movies.append(i.text)"
   ]
  },
  {
   "cell_type": "code",
   "execution_count": 9,
   "id": "036ccd29-01b5-474a-bf8f-0ac614bd19ec",
   "metadata": {},
   "outputs": [],
   "source": [
    "# Extract only movie titles \n",
    "MoviesList=Movies[1:len(Movie_title)-1]"
   ]
  },
  {
   "cell_type": "code",
   "execution_count": 10,
   "id": "bdb9e860-3a01-4ee8-bb58-86da64a34df2",
   "metadata": {},
   "outputs": [
    {
     "data": {
      "text/plain": [
       "['1. The Shawshank Redemption',\n",
       " '2. The Godfather',\n",
       " '3. The Dark Knight',\n",
       " '4. The Godfather: Part II',\n",
       " '5. 12 Angry Men',\n",
       " \"6. Schindler's List\",\n",
       " '7. The Lord of the Rings: The Return of the King',\n",
       " '8. Pulp Fiction',\n",
       " '9. The Lord of the Rings: The Fellowship of the Ring',\n",
       " '10. Il Buono, Il Brutto, Il Cattivo',\n",
       " '11. Forrest Gump',\n",
       " '12. The Lord of the Rings: The Two Towers',\n",
       " '13. Fight Club',\n",
       " '14. Inception',\n",
       " '15. Star Wars: Episode V - The Empire Strikes Back',\n",
       " '16. The Matrix',\n",
       " '17. GoodFellas',\n",
       " \"18. One Flew Over the Cuckoo's Nest\",\n",
       " '19. Se7en',\n",
       " '20. Interstellar',\n",
       " \"21. It's a Wonderful Life\",\n",
       " '22. Shichinin No Samurai',\n",
       " '23. The Silence of the Lambs',\n",
       " '24. Saving Private Ryan',\n",
       " '25. City of God']"
      ]
     },
     "execution_count": 10,
     "metadata": {},
     "output_type": "execute_result"
    }
   ],
   "source": [
    "MoviesList"
   ]
  },
  {
   "cell_type": "code",
   "execution_count": 11,
   "id": "af62e1f2-0a91-4f88-8d96-54574ce4290f",
   "metadata": {},
   "outputs": [],
   "source": [
    "# Extract release year\n",
    "\n",
    "years=soup.find_all('span',class_=\"sc-b189961a-8 kLaxqf cli-title-metadata-item\")"
   ]
  },
  {
   "cell_type": "code",
   "execution_count": 12,
   "id": "ca544415-e06a-4516-a42a-11c6fc478216",
   "metadata": {},
   "outputs": [],
   "source": [
    "# Append all the years to a list\n",
    "\n",
    "year=[]\n",
    "for i in years:\n",
    "    year.append(i.text)\n",
    "yr=year[0::3]"
   ]
  },
  {
   "cell_type": "code",
   "execution_count": 13,
   "id": "7b96b2c2-b1c5-40b4-a8a1-da1dc344255a",
   "metadata": {},
   "outputs": [
    {
     "data": {
      "text/plain": [
       "['1994',\n",
       " '1972',\n",
       " '2008',\n",
       " '1974',\n",
       " '1957',\n",
       " '1993',\n",
       " '2003',\n",
       " '1994',\n",
       " '2001',\n",
       " '1966',\n",
       " '1994',\n",
       " '2002',\n",
       " '1999',\n",
       " '2010',\n",
       " '1980',\n",
       " '1999',\n",
       " '1990',\n",
       " '1975',\n",
       " '1995',\n",
       " '2014',\n",
       " '1946',\n",
       " '1954',\n",
       " '1991',\n",
       " '1998',\n",
       " '2002']"
      ]
     },
     "execution_count": 13,
     "metadata": {},
     "output_type": "execute_result"
    }
   ],
   "source": [
    "yr"
   ]
  },
  {
   "cell_type": "code",
   "execution_count": 14,
   "id": "b1185d41-c829-4efd-a499-5127ab78e10a",
   "metadata": {},
   "outputs": [],
   "source": [
    "# Create a DataFrame\n",
    "df = pd.DataFrame({'Movie': MoviesList, 'Year': yr})\n"
   ]
  },
  {
   "cell_type": "code",
   "execution_count": 15,
   "id": "58eb6e1d-8640-4178-88e3-f57ed41a4953",
   "metadata": {},
   "outputs": [
    {
     "name": "stdout",
     "output_type": "stream",
     "text": [
      "                                                Movie  Year\n",
      "0                         1. The Shawshank Redemption  1994\n",
      "1                                    2. The Godfather  1972\n",
      "2                                  3. The Dark Knight  2008\n",
      "3                           4. The Godfather: Part II  1974\n",
      "4                                     5. 12 Angry Men  1957\n",
      "5                                 6. Schindler's List  1993\n",
      "6    7. The Lord of the Rings: The Return of the King  2003\n",
      "7                                     8. Pulp Fiction  1994\n",
      "8   9. The Lord of the Rings: The Fellowship of th...  2001\n",
      "9                 10. Il Buono, Il Brutto, Il Cattivo  1966\n",
      "10                                   11. Forrest Gump  1994\n",
      "11          12. The Lord of the Rings: The Two Towers  2002\n",
      "12                                     13. Fight Club  1999\n",
      "13                                      14. Inception  2010\n",
      "14  15. Star Wars: Episode V - The Empire Strikes ...  1980\n",
      "15                                     16. The Matrix  1999\n",
      "16                                     17. GoodFellas  1990\n",
      "17                18. One Flew Over the Cuckoo's Nest  1975\n",
      "18                                          19. Se7en  1995\n",
      "19                                   20. Interstellar  2014\n",
      "20                          21. It's a Wonderful Life  1946\n",
      "21                           22. Shichinin No Samurai  1954\n",
      "22                       23. The Silence of the Lambs  1991\n",
      "23                            24. Saving Private Ryan  1998\n",
      "24                                    25. City of God  2002\n"
     ]
    }
   ],
   "source": [
    "# Printing the extracted data \n",
    "print(df)"
   ]
  },
  {
   "cell_type": "code",
   "execution_count": 16,
   "id": "e4c7d768-6f1d-4848-aa08-d52c79714a70",
   "metadata": {},
   "outputs": [],
   "source": [
    "# Save to CSV\n",
    "df.to_csv('imdb_top_movies.csv', index=False)"
   ]
  }
 ],
 "metadata": {
  "kernelspec": {
   "display_name": "Python 3 (ipykernel)",
   "language": "python",
   "name": "python3"
  },
  "language_info": {
   "codemirror_mode": {
    "name": "ipython",
    "version": 3
   },
   "file_extension": ".py",
   "mimetype": "text/x-python",
   "name": "python",
   "nbconvert_exporter": "python",
   "pygments_lexer": "ipython3",
   "version": "3.11.7"
  }
 },
 "nbformat": 4,
 "nbformat_minor": 5
}
